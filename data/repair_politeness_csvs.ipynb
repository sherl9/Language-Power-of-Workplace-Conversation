{
 "cells": [
  {
   "cell_type": "markdown",
   "id": "eb4093cb-9f69-4d0a-9c3d-9d3ed1fbf318",
   "metadata": {},
   "source": [
    "# Import libraries"
   ]
  },
  {
   "cell_type": "code",
   "execution_count": 2,
   "id": "54d28108-94e6-4a5f-9524-a61021012080",
   "metadata": {},
   "outputs": [],
   "source": [
    "import pandas as pd"
   ]
  },
  {
   "cell_type": "code",
   "execution_count": 3,
   "id": "764d7d8c-9c07-4b3d-a3e0-6308bbc665f9",
   "metadata": {},
   "outputs": [],
   "source": [
    "# remove newline characters ('\\r\\n') in the text filed\n",
    "\n",
    "wiki_df = pd.read_csv('Stanford_politeness_corpus/stack-exchange.annotated.old.csv')\n",
    "wiki_df['Request'] = wiki_df['Request'].apply(lambda x: ' '.join(filter(None, x.split('\\r\\n'))))\n",
    "wiki_df.to_csv('Stanford_politeness_corpus/stack-exchange.annotated.csv', index=False)\n",
    "\n",
    "\n",
    "se_df = pd.read_csv('Stanford_politeness_corpus/wikipedia.annotated.old.csv')\n",
    "se_df['Request'] = se_df['Request'].apply(lambda x: ' '.join(filter(None, x.split('\\r\\n'))))\n",
    "se_df.to_csv('Stanford_politeness_corpus/wikipedia.annotated.csv', index=False)"
   ]
  },
  {
   "cell_type": "code",
   "execution_count": 4,
   "id": "d3a08bdc-e784-4b95-92e9-7ff36376ad1f",
   "metadata": {},
   "outputs": [],
   "source": [
    "# import pickle\n",
    "\n",
    "# cur_dir = 'data/Stanford_politeness_corpus/'\n",
    "# cur_file = cur_dir + 'labels_wikipedia.annotated.pkl'\n",
    "\n",
    "# with open(cur_file, 'rb') as f:\n",
    "#     data = pickle.load(f)"
   ]
  }
 ],
 "metadata": {
  "kernelspec": {
   "display_name": "Python 3 (ipykernel)",
   "language": "python",
   "name": "python3"
  },
  "language_info": {
   "codemirror_mode": {
    "name": "ipython",
    "version": 3
   },
   "file_extension": ".py",
   "mimetype": "text/x-python",
   "name": "python",
   "nbconvert_exporter": "python",
   "pygments_lexer": "ipython3",
   "version": "3.8.12"
  }
 },
 "nbformat": 4,
 "nbformat_minor": 5
}
