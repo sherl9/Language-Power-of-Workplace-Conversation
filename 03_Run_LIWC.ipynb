{
 "cells": [
  {
   "cell_type": "markdown",
   "id": "d4aba372-72bc-41f5-8f47-8a9c95312ff4",
   "metadata": {},
   "source": [
    "# Import"
   ]
  },
  {
   "cell_type": "code",
   "execution_count": 1,
   "id": "e57836d8-b31b-4b70-ae09-d38eec34e7c4",
   "metadata": {},
   "outputs": [],
   "source": [
    "import configparser as cp\n",
    "import pandas as pd\n",
    "import subprocess"
   ]
  },
  {
   "cell_type": "markdown",
   "id": "e4028a1e-fffd-439c-a974-16acf232f6f1",
   "metadata": {},
   "source": [
    "# Data"
   ]
  },
  {
   "cell_type": "code",
   "execution_count": 3,
   "id": "975bf5f1-fa32-4f14-9848-e44616a615bd",
   "metadata": {},
   "outputs": [],
   "source": [
    "config = cp.RawConfigParser()\n",
    "config.read(r'config.txt')\n",
    "\n",
    "proc_file = config.get('main', 'proc_file')\n",
    "proc_output = config.get('liwc', 'proc_output')\n",
    "\n",
    "speaker_concat_file = config.get('corpus', 'speaker_concat_file')\n",
    "speaker_concat_output = config.get('liwc', 'speaker_concat_output')\n",
    "\n",
    "conv_concat_file = config.get('corpus', 'conv_concat_file')\n",
    "conv_concat_output = config.get('liwc', 'conv_concat_output')"
   ]
  },
  {
   "cell_type": "markdown",
   "id": "ceac7b9a-1199-4efc-9f1b-b48258655510",
   "metadata": {},
   "source": [
    "# Run LIWC on processed file"
   ]
  },
  {
   "cell_type": "code",
   "execution_count": 6,
   "id": "784d8a21-978b-47d1-9cb1-62641b56bb32",
   "metadata": {},
   "outputs": [
    {
     "name": "stdout",
     "output_type": "stream",
     "text": [
      "Processing:\n",
      " - [file] /Volumes/FIRST/comp90055/code/data/processed.csv\n",
      "\n",
      "[========================================] 100.00%; Number of Rows Analyzed: 614; Total Words Analyzed: 13.8K\n",
      "\n",
      "Done. Please examine results in /Volumes/FIRST/comp90055/code/data/processed_liwc.csv\n"
     ]
    },
    {
     "data": {
      "text/plain": [
       "0"
      ]
     },
     "execution_count": 6,
     "metadata": {},
     "output_type": "execute_result"
    }
   ],
   "source": [
    "cmd_to_execute = ['LIWC-22-cli',\n",
    "                  '--mode', 'wc',\n",
    "                  '--input', proc_file,\n",
    "                  '--output', proc_output,\n",
    "                  '--row-id-indices', '1',\n",
    "                  '--column-indices', '6']\n",
    "\n",
    "subprocess.call(cmd_to_execute)"
   ]
  },
  {
   "cell_type": "markdown",
   "id": "c3fd86f3-af06-4a72-bb73-796460b5ffcb",
   "metadata": {},
   "source": [
    "# Run LIWC on concatenated files"
   ]
  },
  {
   "cell_type": "code",
   "execution_count": 4,
   "id": "f0e19ec7-c1c2-4d59-aac9-78a4b18b6b09",
   "metadata": {},
   "outputs": [
    {
     "name": "stdout",
     "output_type": "stream",
     "text": [
      "Processing:\n",
      " - [file] /Volumes/FIRST/comp90055/code/data/concatenated_speakers.csv\n",
      "\n",
      "[========================================] 100.00%; Number of Rows Analyzed: 7; Total Words Analyzed: 13.8K\n",
      "\n",
      "Done. Please examine results in /Volumes/FIRST/comp90055/code/data/concatenated_speakers_liwc.csv\n"
     ]
    },
    {
     "data": {
      "text/plain": [
       "0"
      ]
     },
     "execution_count": 4,
     "metadata": {},
     "output_type": "execute_result"
    }
   ],
   "source": [
    "cmd_to_execute = ['LIWC-22-cli',\n",
    "                  '--mode', 'wc',\n",
    "                  '--input', speaker_concat_file,\n",
    "                  '--output', speaker_concat_output,\n",
    "                  '--row-id-indices', '1',\n",
    "                  '--column-indices', '3']\n",
    "\n",
    "subprocess.call(cmd_to_execute)"
   ]
  },
  {
   "cell_type": "code",
   "execution_count": 5,
   "id": "30ebd84e-1b81-4b4e-a4a1-eedb9369f90e",
   "metadata": {},
   "outputs": [
    {
     "name": "stdout",
     "output_type": "stream",
     "text": [
      "Processing:\n",
      " - [file] /Volumes/FIRST/comp90055/code/data/concatenated_conversations.csv\n",
      "\n",
      "[========================================] 100.00%; Number of Rows Analyzed: 22; Total Words Analyzed: 9071\n",
      "\n",
      "Done. Please examine results in /Volumes/FIRST/comp90055/code/data/concatenated_conversations_liwc.csv\n"
     ]
    },
    {
     "data": {
      "text/plain": [
       "0"
      ]
     },
     "execution_count": 5,
     "metadata": {},
     "output_type": "execute_result"
    }
   ],
   "source": [
    "cmd_to_execute = ['LIWC-22-cli',\n",
    "                  '--mode', 'wc',\n",
    "                  '--input', conv_concat_file,\n",
    "                  '--output', conv_concat_output,\n",
    "                  '--row-id-indices', '1',\n",
    "                  '--column-indices', '4']\n",
    "\n",
    "subprocess.call(cmd_to_execute)"
   ]
  },
  {
   "cell_type": "code",
   "execution_count": null,
   "id": "cca01869-1adc-4eaf-a78e-fad16d5c4a54",
   "metadata": {},
   "outputs": [],
   "source": [
    "################################################################################\n",
    "##################################### END ######################################\n",
    "################################################################################"
   ]
  }
 ],
 "metadata": {
  "kernelspec": {
   "display_name": "Python 3 (ipykernel)",
   "language": "python",
   "name": "python3"
  },
  "language_info": {
   "codemirror_mode": {
    "name": "ipython",
    "version": 3
   },
   "file_extension": ".py",
   "mimetype": "text/x-python",
   "name": "python",
   "nbconvert_exporter": "python",
   "pygments_lexer": "ipython3",
   "version": "3.8.12"
  }
 },
 "nbformat": 4,
 "nbformat_minor": 5
}
